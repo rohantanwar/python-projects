{
 "cells": [
  {
   "cell_type": "code",
   "execution_count": 1,
   "id": "fc627142",
   "metadata": {},
   "outputs": [],
   "source": [
    "# import random module\n",
    "import random"
   ]
  },
  {
   "cell_type": "code",
   "execution_count": 2,
   "id": "c07a30a4",
   "metadata": {},
   "outputs": [
    {
     "name": "stdout",
     "output_type": "stream",
     "text": [
      "Winning rules of the colors choices Game is as follows: \n",
      "Enter a number from one to five and match the computer choice to win the game\n",
      "red = 1 \n",
      "yellow = 2 \n",
      "orange = 3 \n",
      "green = 4 \n",
      "blue = 5 \n",
      "take a turn: \n",
      "User turn: 5\n",
      "User color choice is: blue\n",
      "Now its computer's turn to choose color .....\n",
      "player score: 0\n",
      "computer score: 1\n",
      "Do you want to play again (Y/N)\n",
      "Y\n",
      "red = 1 \n",
      "yellow = 2 \n",
      "orange = 3 \n",
      "green = 4 \n",
      "blue = 5 \n",
      "take a turn: \n",
      "User turn: 1\n",
      "User color choice is: red\n",
      "Now its computer's turn to choose color .....\n",
      "player score: 0\n",
      "computer score: 2\n",
      "Do you want to play again (Y/N)\n",
      "Y\n",
      "red = 1 \n",
      "yellow = 2 \n",
      "orange = 3 \n",
      "green = 4 \n",
      "blue = 5 \n",
      "take a turn: \n",
      "User turn: 2\n",
      "User color choice is: yellow\n",
      "Now its computer's turn to choose color .....\n",
      "player score: 0\n",
      "computer score: 3\n",
      "Do you want to play again (Y/N)\n",
      "N\n"
     ]
    }
   ],
   "source": [
    "# performing concatenation of a string\n",
    "print(\"Winning rules of the colors choices Game is as follows: \" + \"\\nEnter a number from one to five and match the computer choice to win the game\")\n",
    "computer_score = 0\n",
    "player_score = 0\n",
    "\n",
    "while True:\n",
    "    print(\"red = 1 \\nyellow = 2 \\norange = 3 \\ngreen = 4 \\nblue = 5 \\ntake a turn: \")\n",
    "\n",
    "    #take the input from user\n",
    "    player_choice = int(input(\"User turn: \"))\n",
    "    \n",
    "    #Looping until user enters invalid Input\n",
    "    while player_choice > 5 and player_choice < 1:\n",
    "        player_choice = int(input(\"Enter valid Input: \"))\n",
    "        \n",
    "    #Intialize value of choice_col variable\n",
    "    #Corresponding to the player_choice value\n",
    "    if player_choice == 1:\n",
    "        choice_col = 'red'\n",
    "    elif player_choice == 2:\n",
    "        choice_col = 'yellow'\n",
    "    elif player_choice == 3:\n",
    "        choice_col = 'orange'\n",
    "    elif player_choice == 4:\n",
    "        choice_col = 'green'\n",
    "    else:\n",
    "        choice_col = 'blue'\n",
    "        \n",
    "    #print user choice\n",
    "    print(\"User color choice is: \" + choice_col)\n",
    "    print(\"Now its computer's turn to choose color .....\")\n",
    "    \n",
    "    #computer chooses any number using randint function\n",
    "    computer_choice = random.randint(1,5)\n",
    "    \n",
    "    #Looping untill computer_choice value\n",
    "    #is equal to the choice value\n",
    "    while computer_choice == player_choice:\n",
    "        computer_choice = random.randint(1,5)\n",
    "        \n",
    "    #Initialize value of comp_choice_col\n",
    "    if  computer_choice == 1:\n",
    "        comp_choice_col = 'red'\n",
    "    elif computer_choice == 2:\n",
    "        comp_choice_col = 'yellow'\n",
    "    elif computer_choice == 3:\n",
    "        comp_choice_col = 'orange'\n",
    "    elif computer_choice == 4:\n",
    "        comp_choice_col = 'green'\n",
    "    else:\n",
    "        comp_choice_col = 'blue'\n",
    "        \n",
    "        print(\"computer color choice is: \" + comp_choice_col)\n",
    "    \n",
    "    #Conditions for winning\n",
    "    if choice_col == comp_choice_col:\n",
    "        player_score += 1\n",
    "        print(\"player score: \" + str(player_score)) \n",
    "        print(\"computer score: \" + str(computer_score)) \n",
    "    else:\n",
    "        computer_score += 1 \n",
    "        \n",
    "        print(\"player score: \" + str(player_score)) \n",
    "        print(\"computer score: \" + str(computer_score))  \n",
    "    print(\"Do you want to play again (Y/N)\")\n",
    "    answer = input()\n",
    "    \n",
    "    #if user input is n or N then condition is true \n",
    "    \n",
    "    if answer == 'n' or answer == 'N':\n",
    "        break\n",
    "\n",
    "\n"
   ]
  },
  {
   "cell_type": "markdown",
   "id": "63a6af9b",
   "metadata": {},
   "source": [
    "# Thanks for playing and the overall result of the game:"
   ]
  },
  {
   "cell_type": "code",
   "execution_count": 3,
   "id": "72270486",
   "metadata": {},
   "outputs": [
    {
     "name": "stdout",
     "output_type": "stream",
     "text": [
      "\n",
      "<== computer wins ==>\n",
      "\n",
      "player is defeated\n",
      "\n",
      "Thanks for playing\n"
     ]
    }
   ],
   "source": [
    "#after coming out of while loop\n",
    "#we print thanks for playing and overall result of the game\n",
    "if computer_score == player_score:\n",
    "    print(\"game is tied\")\n",
    "    print(\"\\n thanks for playing\")\n",
    "elif computer_score < player_score:\n",
    "    print(\"Player id victorious\")\n",
    "    print(\"<== User wins ==>\")\n",
    "    print(\"\\nThanks for playing\")\n",
    "elif computer_score > player_score:\n",
    "    print(\"\\n<== computer wins ==>\")\n",
    "    print(\"\\nplayer is defeated\")\n",
    "    print(\"\\nThanks for playing\")"
   ]
  },
  {
   "cell_type": "code",
   "execution_count": null,
   "id": "4794a04f",
   "metadata": {},
   "outputs": [],
   "source": []
  }
 ],
 "metadata": {
  "kernelspec": {
   "display_name": "Python 3 (ipykernel)",
   "language": "python",
   "name": "python3"
  },
  "language_info": {
   "codemirror_mode": {
    "name": "ipython",
    "version": 3
   },
   "file_extension": ".py",
   "mimetype": "text/x-python",
   "name": "python",
   "nbconvert_exporter": "python",
   "pygments_lexer": "ipython3",
   "version": "3.9.12"
  }
 },
 "nbformat": 4,
 "nbformat_minor": 5
}
